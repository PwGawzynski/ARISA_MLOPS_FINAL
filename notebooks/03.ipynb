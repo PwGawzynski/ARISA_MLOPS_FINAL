{
 "cells": [
  {
   "cell_type": "code",
   "execution_count": 98,
   "id": "c761515e",
   "metadata": {},
   "outputs": [
    {
     "name": "stdout",
     "output_type": "stream",
     "text": [
      "The autoreload extension is already loaded. To reload it, use:\n",
      "  %reload_ext autoreload\n"
     ]
    }
   ],
   "source": [
    "%load_ext autoreload\n",
    "%autoreload 2\n"
   ]
  },
  {
   "cell_type": "code",
   "execution_count": 99,
   "id": "159ed51d",
   "metadata": {},
   "outputs": [],
   "source": [
    "\n",
    "#!pip install catboost matplotlib pandas scikit-learn kaggle optuna ipywidgets kaleido shap jupyterlab-rise"
   ]
  },
  {
   "cell_type": "code",
   "execution_count": 100,
   "id": "d4926311",
   "metadata": {},
   "outputs": [],
   "source": [
    "import sys\n",
    "from pathlib import Path\n",
    "\n",
    "\n",
    "# Dodaj folder główny projektu do sys.path\n",
    "sys.path.append(str(Path.cwd().parent))"
   ]
  },
  {
   "cell_type": "code",
   "execution_count": 101,
   "id": "125437f2",
   "metadata": {},
   "outputs": [],
   "source": [
    "import os\n",
    "from pathlib import Path\n",
    "container_check = os.getenv(\"iscontainer\")\n",
    "if container_check==\"y\":\n",
    "    config_dir = Path(\"/home/vscode/.config/kaggle\")\n",
    "    config_dir.mkdir(parents=True, exist_ok=True)\n",
    "    \n",
    "    with open(config_dir / \"kaggle.json\", \"w\") as dst:\n",
    "        with open(\"./kaggle.json\", \"r\") as src:\n",
    "            dst.write(src.read())"
   ]
  },
  {
   "cell_type": "code",
   "execution_count": 102,
   "id": "38e2caaf",
   "metadata": {},
   "outputs": [],
   "source": [
    "import sys\n",
    "import os\n",
    "\n",
    "\n",
    "sys.path.append(os.path.abspath(\"..\"))\n",
    "\n",
    "from ARISA_DSML.preproc import get_raw_data\n",
    "from ARISA_DSML.config import RAW_DATA_DIR, target"
   ]
  },
  {
   "cell_type": "code",
   "execution_count": 103,
   "id": "d87f6f4d",
   "metadata": {},
   "outputs": [
    {
     "name": "stdout",
     "output_type": "stream",
     "text": [
      "RAW_DATA_DIR is: /Users/pwgawzynski/WebstormProjects/ARISA_MLOPS_FINAL/data/raw\n",
      "Dataset URL: https://www.kaggle.com/datasets/sujithmandala/simple-loan-classification-dataset\n",
      "Latest downloaded file: loan.csv\n"
     ]
    },
    {
     "data": {
      "text/plain": [
       "'loan.csv'"
      ]
     },
     "execution_count": 103,
     "metadata": {},
     "output_type": "execute_result"
    }
   ],
   "source": [
    "get_raw_data('sujithmandala/simple-loan-classification-dataset')"
   ]
  },
  {
   "cell_type": "code",
   "execution_count": 104,
   "id": "59859b73",
   "metadata": {},
   "outputs": [
    {
     "name": "stderr",
     "output_type": "stream",
     "text": [
      "--- Logging error in Loguru Handler #1 ---\n",
      "Record was: {'elapsed': datetime.timedelta(seconds=7754, microseconds=716116), 'exception': None, 'extra': {}, 'file': (name='preproc.py', path='/Users/pwgawzynski/WebstormProjects/ARISA_MLOPS_FINAL/ARISA_DSML/preproc.py'), 'function': 'preprocess_df', 'level': (name='INFO', no=20, icon='ℹ️'), 'line': 51, 'message': 'Train saved to /Users/pwgawzynski/WebstormProjects/ARISA_MLOPS_FINAL/data/processed/train.csv, Test saved to /Users/pwgawzynski/WebstormProjects/ARISA_MLOPS_FINAL/data/processed/test.csv', 'module': 'preproc', 'name': 'ARISA_DSML.preproc', 'process': (id=30169, name='MainProcess'), 'thread': (id=8594427008, name='MainThread'), 'time': datetime(2025, 5, 7, 21, 31, 34, 460988, tzinfo=datetime.timezone(datetime.timedelta(seconds=7200), 'CEST'))}\n",
      "Traceback (most recent call last):\n",
      "  File \"/Users/pwgawzynski/WebstormProjects/ARISA_MLOPS_FINAL/.venv/lib/python3.10/site-packages/loguru/_handler.py\", line 206, in emit\n",
      "    self._sink.write(str_record)\n",
      "  File \"/Users/pwgawzynski/WebstormProjects/ARISA_MLOPS_FINAL/.venv/lib/python3.10/site-packages/loguru/_simple_sinks.py\", line 123, in write\n",
      "    self._function(message)\n",
      "  File \"/Users/pwgawzynski/WebstormProjects/ARISA_MLOPS_FINAL/ARISA_DSML/config.py\", line 30, in <lambda>\n",
      "NameError: name 'tqdm' is not defined\n",
      "--- End of logging error ---\n"
     ]
    }
   ],
   "source": [
    "from ARISA_DSML.preproc import preprocess_df\n",
    "\n",
    "train_path, test_path, df = preprocess_df(RAW_DATA_DIR / \"loan.csv\")\n",
    "\n",
    "\n",
    "     \n"
   ]
  },
  {
   "cell_type": "code",
   "execution_count": 105,
   "id": "2927220b",
   "metadata": {},
   "outputs": [
    {
     "data": {
      "text/plain": [
       "PosixPath('/Users/pwgawzynski/WebstormProjects/ARISA_MLOPS_FINAL/data/processed/train.csv')"
      ]
     },
     "execution_count": 105,
     "metadata": {},
     "output_type": "execute_result"
    }
   ],
   "source": [
    "train_path"
   ]
  },
  {
   "cell_type": "code",
   "execution_count": 106,
   "id": "7fc3947c",
   "metadata": {},
   "outputs": [
    {
     "data": {
      "text/plain": [
       "PosixPath('/Users/pwgawzynski/WebstormProjects/ARISA_MLOPS_FINAL/data/processed/test.csv')"
      ]
     },
     "execution_count": 106,
     "metadata": {},
     "output_type": "execute_result"
    }
   ],
   "source": [
    "test_path"
   ]
  },
  {
   "cell_type": "code",
   "execution_count": 107,
   "id": "5e64fdac",
   "metadata": {},
   "outputs": [
    {
     "name": "stdout",
     "output_type": "stream",
     "text": [
      "<class 'pandas.core.frame.DataFrame'>\n",
      "RangeIndex: 48 entries, 0 to 47\n",
      "Data columns (total 47 columns):\n",
      " #   Column                                  Non-Null Count  Dtype  \n",
      "---  ------                                  --------------  -----  \n",
      " 0   occupation__occupation_Accountant       48 non-null     float64\n",
      " 1   occupation__occupation_Analyst          48 non-null     float64\n",
      " 2   occupation__occupation_Architect        48 non-null     float64\n",
      " 3   occupation__occupation_Artist           48 non-null     float64\n",
      " 4   occupation__occupation_Banker           48 non-null     float64\n",
      " 5   occupation__occupation_Chef             48 non-null     float64\n",
      " 6   occupation__occupation_Consultant       48 non-null     float64\n",
      " 7   occupation__occupation_Dentist          48 non-null     float64\n",
      " 8   occupation__occupation_Designer         48 non-null     float64\n",
      " 9   occupation__occupation_Doctor           48 non-null     float64\n",
      " 10  occupation__occupation_Editor           48 non-null     float64\n",
      " 11  occupation__occupation_Electrician      48 non-null     float64\n",
      " 12  occupation__occupation_Engineer         48 non-null     float64\n",
      " 13  occupation__occupation_HR               48 non-null     float64\n",
      " 14  occupation__occupation_IT               48 non-null     float64\n",
      " 15  occupation__occupation_Lawyer           48 non-null     float64\n",
      " 16  occupation__occupation_Manager          48 non-null     float64\n",
      " 17  occupation__occupation_Marketing        48 non-null     float64\n",
      " 18  occupation__occupation_Musician         48 non-null     float64\n",
      " 19  occupation__occupation_Nurse            48 non-null     float64\n",
      " 20  occupation__occupation_Pharmacist       48 non-null     float64\n",
      " 21  occupation__occupation_Photographer     48 non-null     float64\n",
      " 22  occupation__occupation_Pilot            48 non-null     float64\n",
      " 23  occupation__occupation_Professor        48 non-null     float64\n",
      " 24  occupation__occupation_Programmer       48 non-null     float64\n",
      " 25  occupation__occupation_Psychologist     48 non-null     float64\n",
      " 26  occupation__occupation_Realtor          48 non-null     float64\n",
      " 27  occupation__occupation_Receptionist     48 non-null     float64\n",
      " 28  occupation__occupation_Researcher       48 non-null     float64\n",
      " 29  occupation__occupation_Sales            48 non-null     float64\n",
      " 30  occupation__occupation_Salesman         48 non-null     float64\n",
      " 31  occupation__occupation_Server           48 non-null     float64\n",
      " 32  occupation__occupation_Software         48 non-null     float64\n",
      " 33  occupation__occupation_Student          48 non-null     float64\n",
      " 34  occupation__occupation_Stylist          48 non-null     float64\n",
      " 35  occupation__occupation_Teacher          48 non-null     float64\n",
      " 36  occupation__occupation_Veterinarian     48 non-null     float64\n",
      " 37  occupation__occupation_Writer           48 non-null     float64\n",
      " 38  marital_status__marital_status_Married  48 non-null     float64\n",
      " 39  marital_status__marital_status_Single   48 non-null     float64\n",
      " 40  gender__gender_Female                   48 non-null     float64\n",
      " 41  gender__gender_Male                     48 non-null     float64\n",
      " 42  education_level__education_level        48 non-null     float64\n",
      " 43  remainder__age                          48 non-null     int64  \n",
      " 44  remainder__income                       48 non-null     int64  \n",
      " 45  remainder__credit_score                 48 non-null     int64  \n",
      " 46  remainder__loan_status                  48 non-null     object \n",
      "dtypes: float64(43), int64(3), object(1)\n",
      "memory usage: 17.8+ KB\n"
     ]
    }
   ],
   "source": [
    "import pandas as pd\n",
    "df_train = pd.read_csv(train_path)\n",
    "df_train.info()"
   ]
  },
  {
   "cell_type": "code",
   "execution_count": 108,
   "id": "4761a479",
   "metadata": {},
   "outputs": [],
   "source": [
    "y_train = df_train.pop(target)\n",
    "X_train = df_train\n"
   ]
  },
  {
   "cell_type": "code",
   "execution_count": 109,
   "id": "3a23ff64",
   "metadata": {},
   "outputs": [
    {
     "name": "stderr",
     "output_type": "stream",
     "text": [
      "--- Logging error in Loguru Handler #1 ---\n",
      "Record was: {'elapsed': datetime.timedelta(seconds=7754, microseconds=958874), 'exception': None, 'extra': {}, 'file': (name='train.py', path='/Users/pwgawzynski/WebstormProjects/ARISA_MLOPS_FINAL/ARISA_DSML/train.py'), 'function': 'run_hyperopt', 'level': (name='INFO', no=20, icon='ℹ️'), 'line': 89, 'message': 'Loading best parameters from /Users/pwgawzynski/WebstormProjects/ARISA_MLOPS_FINAL/models/best_params.pkl', 'module': 'train', 'name': 'ARISA_DSML.train', 'process': (id=30169, name='MainProcess'), 'thread': (id=8594427008, name='MainThread'), 'time': datetime(2025, 5, 7, 21, 31, 34, 703746, tzinfo=datetime.timezone(datetime.timedelta(seconds=7200), 'CEST'))}\n",
      "Traceback (most recent call last):\n",
      "  File \"/Users/pwgawzynski/WebstormProjects/ARISA_MLOPS_FINAL/.venv/lib/python3.10/site-packages/loguru/_handler.py\", line 206, in emit\n",
      "    self._sink.write(str_record)\n",
      "  File \"/Users/pwgawzynski/WebstormProjects/ARISA_MLOPS_FINAL/.venv/lib/python3.10/site-packages/loguru/_simple_sinks.py\", line 123, in write\n",
      "    self._function(message)\n",
      "  File \"/Users/pwgawzynski/WebstormProjects/ARISA_MLOPS_FINAL/ARISA_DSML/config.py\", line 30, in <lambda>\n",
      "NameError: name 'tqdm' is not defined\n",
      "--- End of logging error ---\n",
      "--- Logging error in Loguru Handler #1 ---\n",
      "Record was: {'elapsed': datetime.timedelta(seconds=7754, microseconds=960318), 'exception': None, 'extra': {}, 'file': (name='train.py', path='/Users/pwgawzynski/WebstormProjects/ARISA_MLOPS_FINAL/ARISA_DSML/train.py'), 'function': 'run_hyperopt', 'level': (name='INFO', no=20, icon='ℹ️'), 'line': 92, 'message': \"Best Parameters: {'depth': 7, 'learning_rate': 0.08542593356250969, 'iterations': 186, 'l2_leaf_reg': 1.9370573256339512e-05, 'bagging_temperature': 0.7547722354174756, 'random_strength': 0.8756170252892379}\", 'module': 'train', 'name': 'ARISA_DSML.train', 'process': (id=30169, name='MainProcess'), 'thread': (id=8594427008, name='MainThread'), 'time': datetime(2025, 5, 7, 21, 31, 34, 705190, tzinfo=datetime.timezone(datetime.timedelta(seconds=7200), 'CEST'))}\n",
      "Traceback (most recent call last):\n",
      "  File \"/Users/pwgawzynski/WebstormProjects/ARISA_MLOPS_FINAL/.venv/lib/python3.10/site-packages/loguru/_handler.py\", line 206, in emit\n",
      "    self._sink.write(str_record)\n",
      "  File \"/Users/pwgawzynski/WebstormProjects/ARISA_MLOPS_FINAL/.venv/lib/python3.10/site-packages/loguru/_simple_sinks.py\", line 123, in write\n",
      "    self._function(message)\n",
      "  File \"/Users/pwgawzynski/WebstormProjects/ARISA_MLOPS_FINAL/ARISA_DSML/config.py\", line 30, in <lambda>\n",
      "NameError: name 'tqdm' is not defined\n",
      "--- End of logging error ---\n"
     ]
    }
   ],
   "source": [
    "from ARISA_DSML.train import run_hyperopt\n",
    "\n",
    "best_params_path = run_hyperopt(X_train, y_train)"
   ]
  },
  {
   "cell_type": "code",
   "execution_count": 110,
   "id": "aadb26d2",
   "metadata": {},
   "outputs": [
    {
     "data": {
      "text/plain": [
       "PosixPath('/Users/pwgawzynski/WebstormProjects/ARISA_MLOPS_FINAL/models/best_params.pkl')"
      ]
     },
     "execution_count": 110,
     "metadata": {},
     "output_type": "execute_result"
    }
   ],
   "source": [
    "best_params_path\n"
   ]
  },
  {
   "cell_type": "code",
   "execution_count": 111,
   "id": "c6154993",
   "metadata": {},
   "outputs": [
    {
     "data": {
      "text/plain": [
       "{'depth': 7,\n",
       " 'learning_rate': 0.08542593356250969,\n",
       " 'iterations': 186,\n",
       " 'l2_leaf_reg': 1.9370573256339512e-05,\n",
       " 'bagging_temperature': 0.7547722354174756,\n",
       " 'random_strength': 0.8756170252892379}"
      ]
     },
     "metadata": {},
     "output_type": "display_data"
    },
    {
     "name": "stderr",
     "output_type": "stream",
     "text": [
      "--- Logging error in Loguru Handler #1 ---\n",
      "Record was: {'elapsed': datetime.timedelta(seconds=7755, microseconds=16210), 'exception': None, 'extra': {}, 'file': (name='train.py', path='/Users/pwgawzynski/WebstormProjects/ARISA_MLOPS_FINAL/ARISA_DSML/train.py'), 'function': 'train_cv', 'level': (name='INFO', no=20, icon='ℹ️'), 'line': 97, 'message': 'Starting cross-validated training (N=5).', 'module': 'train', 'name': 'ARISA_DSML.train', 'process': (id=30169, name='MainProcess'), 'thread': (id=8594427008, name='MainThread'), 'time': datetime(2025, 5, 7, 21, 31, 34, 761082, tzinfo=datetime.timezone(datetime.timedelta(seconds=7200), 'CEST'))}\n",
      "Traceback (most recent call last):\n",
      "  File \"/Users/pwgawzynski/WebstormProjects/ARISA_MLOPS_FINAL/.venv/lib/python3.10/site-packages/loguru/_handler.py\", line 206, in emit\n",
      "    self._sink.write(str_record)\n",
      "  File \"/Users/pwgawzynski/WebstormProjects/ARISA_MLOPS_FINAL/.venv/lib/python3.10/site-packages/loguru/_simple_sinks.py\", line 123, in write\n",
      "    self._function(message)\n",
      "  File \"/Users/pwgawzynski/WebstormProjects/ARISA_MLOPS_FINAL/ARISA_DSML/config.py\", line 30, in <lambda>\n",
      "NameError: name 'tqdm' is not defined\n",
      "--- End of logging error ---\n",
      "--- Logging error in Loguru Handler #1 ---\n",
      "Record was: {'elapsed': datetime.timedelta(seconds=7755, microseconds=27795), 'exception': None, 'extra': {}, 'file': (name='train.py', path='/Users/pwgawzynski/WebstormProjects/ARISA_MLOPS_FINAL/ARISA_DSML/train.py'), 'function': 'train_cv', 'level': (name='INFO', no=20, icon='ℹ️'), 'line': 106, 'message': \"CV parameters: {'depth': 7, 'learning_rate': 0.08542593356250969, 'iterations': 186, 'l2_leaf_reg': 1.9370573256339512e-05, 'bagging_temperature': 0.7547722354174756, 'random_strength': 0.8756170252892379, 'eval_metric': 'F1', 'loss_function': 'Logloss', 'random_seed': 42, 'verbose': 0}\", 'module': 'train', 'name': 'ARISA_DSML.train', 'process': (id=30169, name='MainProcess'), 'thread': (id=8594427008, name='MainThread'), 'time': datetime(2025, 5, 7, 21, 31, 34, 772667, tzinfo=datetime.timezone(datetime.timedelta(seconds=7200), 'CEST'))}\n",
      "Traceback (most recent call last):\n",
      "  File \"/Users/pwgawzynski/WebstormProjects/ARISA_MLOPS_FINAL/.venv/lib/python3.10/site-packages/loguru/_handler.py\", line 206, in emit\n",
      "    self._sink.write(str_record)\n",
      "  File \"/Users/pwgawzynski/WebstormProjects/ARISA_MLOPS_FINAL/.venv/lib/python3.10/site-packages/loguru/_simple_sinks.py\", line 123, in write\n",
      "    self._function(message)\n",
      "  File \"/Users/pwgawzynski/WebstormProjects/ARISA_MLOPS_FINAL/ARISA_DSML/config.py\", line 30, in <lambda>\n",
      "NameError: name 'tqdm' is not defined\n",
      "--- End of logging error ---\n"
     ]
    },
    {
     "name": "stdout",
     "output_type": "stream",
     "text": [
      "Training on fold [0/5]\n",
      "\n",
      "bestTest = 1\n",
      "bestIteration = 0\n",
      "\n",
      "Training on fold [1/5]\n",
      "\n",
      "bestTest = 1\n",
      "bestIteration = 0\n",
      "\n",
      "Training on fold [2/5]\n",
      "\n",
      "bestTest = 1\n",
      "bestIteration = 1\n",
      "\n",
      "Training on fold [3/5]\n",
      "\n",
      "bestTest = 1\n",
      "bestIteration = 2\n",
      "\n",
      "Training on fold [4/5]\n",
      "\n",
      "bestTest = 1\n",
      "bestIteration = 0\n",
      "\n"
     ]
    },
    {
     "name": "stderr",
     "output_type": "stream",
     "text": [
      "--- Logging error in Loguru Handler #1 ---\n",
      "Record was: {'elapsed': datetime.timedelta(seconds=7756, microseconds=90869), 'exception': None, 'extra': {}, 'file': (name='train.py', path='/Users/pwgawzynski/WebstormProjects/ARISA_MLOPS_FINAL/ARISA_DSML/train.py'), 'function': 'train_cv', 'level': (name='INFO', no=20, icon='ℹ️'), 'line': 116, 'message': 'Cross-validation completed.', 'module': 'train', 'name': 'ARISA_DSML.train', 'process': (id=30169, name='MainProcess'), 'thread': (id=8594427008, name='MainThread'), 'time': datetime(2025, 5, 7, 21, 31, 35, 835741, tzinfo=datetime.timezone(datetime.timedelta(seconds=7200), 'CEST'))}\n",
      "Traceback (most recent call last):\n",
      "  File \"/Users/pwgawzynski/WebstormProjects/ARISA_MLOPS_FINAL/.venv/lib/python3.10/site-packages/loguru/_handler.py\", line 206, in emit\n",
      "    self._sink.write(str_record)\n",
      "  File \"/Users/pwgawzynski/WebstormProjects/ARISA_MLOPS_FINAL/.venv/lib/python3.10/site-packages/loguru/_simple_sinks.py\", line 123, in write\n",
      "    self._function(message)\n",
      "  File \"/Users/pwgawzynski/WebstormProjects/ARISA_MLOPS_FINAL/ARISA_DSML/config.py\", line 30, in <lambda>\n",
      "NameError: name 'tqdm' is not defined\n",
      "--- End of logging error ---\n",
      "--- Logging error in Loguru Handler #1 ---\n",
      "Record was: {'elapsed': datetime.timedelta(seconds=7756, microseconds=92791), 'exception': None, 'extra': {}, 'file': (name='train.py', path='/Users/pwgawzynski/WebstormProjects/ARISA_MLOPS_FINAL/ARISA_DSML/train.py'), 'function': 'train_cv', 'level': (name='SUCCESS', no=25, icon='✅'), 'line': 123, 'message': 'CV results saved to /Users/pwgawzynski/WebstormProjects/ARISA_MLOPS_FINAL/models/cv_results.csv', 'module': 'train', 'name': 'ARISA_DSML.train', 'process': (id=30169, name='MainProcess'), 'thread': (id=8594427008, name='MainThread'), 'time': datetime(2025, 5, 7, 21, 31, 35, 837663, tzinfo=datetime.timezone(datetime.timedelta(seconds=7200), 'CEST'))}\n",
      "Traceback (most recent call last):\n",
      "  File \"/Users/pwgawzynski/WebstormProjects/ARISA_MLOPS_FINAL/.venv/lib/python3.10/site-packages/loguru/_handler.py\", line 206, in emit\n",
      "    self._sink.write(str_record)\n",
      "  File \"/Users/pwgawzynski/WebstormProjects/ARISA_MLOPS_FINAL/.venv/lib/python3.10/site-packages/loguru/_simple_sinks.py\", line 123, in write\n",
      "    self._function(message)\n",
      "  File \"/Users/pwgawzynski/WebstormProjects/ARISA_MLOPS_FINAL/ARISA_DSML/config.py\", line 30, in <lambda>\n",
      "NameError: name 'tqdm' is not defined\n",
      "--- End of logging error ---\n"
     ]
    }
   ],
   "source": [
    "import joblib\n",
    "from ARISA_DSML.train import train_cv\n",
    "params = joblib.load(best_params_path)\n",
    "display(params)\n",
    "n_folds = 5\n",
    "cv_output_path = train_cv(X_train, y_train, params, n=n_folds)\n",
    "\n"
   ]
  },
  {
   "cell_type": "code",
   "execution_count": 112,
   "id": "7d0227db",
   "metadata": {},
   "outputs": [
    {
     "data": {
      "application/vnd.plotly.v1+json": {
       "config": {
        "plotlyServerURL": "https://plot.ly"
       },
       "data": [
        {
         "line": {
          "color": "blue"
         },
         "mode": "lines",
         "name": "Mean F1 Score",
         "type": "scatter",
         "x": [
          0,
          1,
          2,
          3,
          4,
          5,
          6,
          7,
          8,
          9,
          10,
          11,
          12,
          13,
          14,
          15,
          16,
          17,
          18,
          19,
          20,
          21,
          22,
          23,
          24,
          25,
          26,
          27,
          28,
          29,
          30,
          31,
          32,
          33,
          34,
          35,
          36,
          37,
          38,
          39,
          40,
          41,
          42,
          43,
          44,
          45,
          46,
          47,
          48,
          49,
          50,
          51,
          52,
          53,
          54,
          55,
          56,
          57,
          58,
          59,
          60,
          61,
          62,
          63,
          64,
          65,
          66,
          67,
          68,
          69,
          70,
          71,
          72,
          73,
          74,
          75,
          76,
          77,
          78,
          79,
          80,
          81,
          82,
          83,
          84,
          85,
          86,
          87,
          88,
          89,
          90,
          91,
          92,
          93,
          94,
          95,
          96,
          97,
          98,
          99,
          100,
          101,
          102,
          103,
          104,
          105,
          106,
          107,
          108,
          109,
          110,
          111,
          112,
          113,
          114,
          115,
          116,
          117,
          118,
          119,
          120,
          121,
          122,
          123,
          124,
          125,
          126,
          127,
          128,
          129,
          130,
          131,
          132,
          133,
          134,
          135,
          136,
          137,
          138,
          139,
          140,
          141,
          142,
          143,
          144,
          145,
          146,
          147,
          148,
          149,
          150,
          151,
          152,
          153,
          154,
          155,
          156,
          157,
          158,
          159,
          160,
          161,
          162,
          163,
          164,
          165,
          166,
          167,
          168,
          169,
          170,
          171,
          172,
          173,
          174,
          175,
          176,
          177,
          178,
          179,
          180,
          181,
          182,
          183,
          184,
          185
         ],
         "y": [
          0.8933333333333333,
          0.9,
          1,
          0.8933333333333333,
          0.9333333333333332,
          0.9333333333333332,
          1,
          1,
          0.96,
          0.96,
          0.96,
          0.96,
          1,
          0.96,
          0.96,
          1,
          1,
          1,
          1,
          1,
          1,
          1,
          1,
          1,
          1,
          1,
          1,
          1,
          1,
          1,
          1,
          1,
          1,
          1,
          1,
          1,
          1,
          1,
          1,
          1,
          1,
          1,
          1,
          1,
          1,
          1,
          1,
          1,
          1,
          1,
          1,
          1,
          1,
          1,
          1,
          1,
          1,
          1,
          1,
          1,
          1,
          1,
          1,
          1,
          1,
          1,
          1,
          1,
          1,
          1,
          1,
          1,
          1,
          1,
          1,
          1,
          1,
          1,
          1,
          1,
          1,
          1,
          1,
          1,
          1,
          1,
          1,
          1,
          1,
          1,
          1,
          1,
          1,
          1,
          1,
          1,
          1,
          1,
          1,
          1,
          1,
          1,
          1,
          1,
          1,
          1,
          1,
          1,
          1,
          1,
          1,
          1,
          1,
          1,
          1,
          1,
          1,
          1,
          1,
          1,
          1,
          1,
          1,
          1,
          1,
          1,
          1,
          1,
          1,
          1,
          1,
          1,
          1,
          1,
          1,
          1,
          1,
          1,
          1,
          1,
          1,
          1,
          1,
          1,
          1,
          1,
          1,
          1,
          1,
          1,
          1,
          1,
          1,
          1,
          1,
          1,
          1,
          1,
          1,
          1,
          1,
          1,
          1,
          1,
          1,
          1,
          1,
          1,
          1,
          1,
          1,
          1,
          1,
          1,
          1,
          1,
          1,
          1,
          1,
          1,
          1,
          1,
          1,
          1,
          1,
          1
         ]
        },
        {
         "fill": "toself",
         "fillcolor": "rgba(0, 0, 255, 0.2)",
         "hoverinfo": "skip",
         "line": {
          "color": "rgba(255, 255, 255, 0)"
         },
         "showlegend": false,
         "type": "scatter",
         "x": [
          0,
          1,
          2,
          3,
          4,
          5,
          6,
          7,
          8,
          9,
          10,
          11,
          12,
          13,
          14,
          15,
          16,
          17,
          18,
          19,
          20,
          21,
          22,
          23,
          24,
          25,
          26,
          27,
          28,
          29,
          30,
          31,
          32,
          33,
          34,
          35,
          36,
          37,
          38,
          39,
          40,
          41,
          42,
          43,
          44,
          45,
          46,
          47,
          48,
          49,
          50,
          51,
          52,
          53,
          54,
          55,
          56,
          57,
          58,
          59,
          60,
          61,
          62,
          63,
          64,
          65,
          66,
          67,
          68,
          69,
          70,
          71,
          72,
          73,
          74,
          75,
          76,
          77,
          78,
          79,
          80,
          81,
          82,
          83,
          84,
          85,
          86,
          87,
          88,
          89,
          90,
          91,
          92,
          93,
          94,
          95,
          96,
          97,
          98,
          99,
          100,
          101,
          102,
          103,
          104,
          105,
          106,
          107,
          108,
          109,
          110,
          111,
          112,
          113,
          114,
          115,
          116,
          117,
          118,
          119,
          120,
          121,
          122,
          123,
          124,
          125,
          126,
          127,
          128,
          129,
          130,
          131,
          132,
          133,
          134,
          135,
          136,
          137,
          138,
          139,
          140,
          141,
          142,
          143,
          144,
          145,
          146,
          147,
          148,
          149,
          150,
          151,
          152,
          153,
          154,
          155,
          156,
          157,
          158,
          159,
          160,
          161,
          162,
          163,
          164,
          165,
          166,
          167,
          168,
          169,
          170,
          171,
          172,
          173,
          174,
          175,
          176,
          177,
          178,
          179,
          180,
          181,
          182,
          183,
          184,
          185,
          185,
          184,
          183,
          182,
          181,
          180,
          179,
          178,
          177,
          176,
          175,
          174,
          173,
          172,
          171,
          170,
          169,
          168,
          167,
          166,
          165,
          164,
          163,
          162,
          161,
          160,
          159,
          158,
          157,
          156,
          155,
          154,
          153,
          152,
          151,
          150,
          149,
          148,
          147,
          146,
          145,
          144,
          143,
          142,
          141,
          140,
          139,
          138,
          137,
          136,
          135,
          134,
          133,
          132,
          131,
          130,
          129,
          128,
          127,
          126,
          125,
          124,
          123,
          122,
          121,
          120,
          119,
          118,
          117,
          116,
          115,
          114,
          113,
          112,
          111,
          110,
          109,
          108,
          107,
          106,
          105,
          104,
          103,
          102,
          101,
          100,
          99,
          98,
          97,
          96,
          95,
          94,
          93,
          92,
          91,
          90,
          89,
          88,
          87,
          86,
          85,
          84,
          83,
          82,
          81,
          80,
          79,
          78,
          77,
          76,
          75,
          74,
          73,
          72,
          71,
          70,
          69,
          68,
          67,
          66,
          65,
          64,
          63,
          62,
          61,
          60,
          59,
          58,
          57,
          56,
          55,
          54,
          53,
          52,
          51,
          50,
          49,
          48,
          47,
          46,
          45,
          44,
          43,
          42,
          41,
          40,
          39,
          38,
          37,
          36,
          35,
          34,
          33,
          32,
          31,
          30,
          29,
          28,
          27,
          26,
          25,
          24,
          23,
          22,
          21,
          20,
          19,
          18,
          17,
          16,
          15,
          14,
          13,
          12,
          11,
          10,
          9,
          8,
          7,
          6,
          5,
          4,
          3,
          2,
          1,
          0
         ],
         "y": [
          1.0468115257762844,
          1.1236067977499788,
          1,
          1.0468115257762844,
          1.0824045318333193,
          1.0824045318333193,
          1,
          1,
          1.0494427190999915,
          1.0494427190999915,
          1.0494427190999915,
          1.0494427190999915,
          1,
          1.0494427190999915,
          1.0494427190999915,
          1,
          1,
          1,
          1,
          1,
          1,
          1,
          1,
          1,
          1,
          1,
          1,
          1,
          1,
          1,
          1,
          1,
          1,
          1,
          1,
          1,
          1,
          1,
          1,
          1,
          1,
          1,
          1,
          1,
          1,
          1,
          1,
          1,
          1,
          1,
          1,
          1,
          1,
          1,
          1,
          1,
          1,
          1,
          1,
          1,
          1,
          1,
          1,
          1,
          1,
          1,
          1,
          1,
          1,
          1,
          1,
          1,
          1,
          1,
          1,
          1,
          1,
          1,
          1,
          1,
          1,
          1,
          1,
          1,
          1,
          1,
          1,
          1,
          1,
          1,
          1,
          1,
          1,
          1,
          1,
          1,
          1,
          1,
          1,
          1,
          1,
          1,
          1,
          1,
          1,
          1,
          1,
          1,
          1,
          1,
          1,
          1,
          1,
          1,
          1,
          1,
          1,
          1,
          1,
          1,
          1,
          1,
          1,
          1,
          1,
          1,
          1,
          1,
          1,
          1,
          1,
          1,
          1,
          1,
          1,
          1,
          1,
          1,
          1,
          1,
          1,
          1,
          1,
          1,
          1,
          1,
          1,
          1,
          1,
          1,
          1,
          1,
          1,
          1,
          1,
          1,
          1,
          1,
          1,
          1,
          1,
          1,
          1,
          1,
          1,
          1,
          1,
          1,
          1,
          1,
          1,
          1,
          1,
          1,
          1,
          1,
          1,
          1,
          1,
          1,
          1,
          1,
          1,
          1,
          1,
          1,
          1,
          1,
          1,
          1,
          1,
          1,
          1,
          1,
          1,
          1,
          1,
          1,
          1,
          1,
          1,
          1,
          1,
          1,
          1,
          1,
          1,
          1,
          1,
          1,
          1,
          1,
          1,
          1,
          1,
          1,
          1,
          1,
          1,
          1,
          1,
          1,
          1,
          1,
          1,
          1,
          1,
          1,
          1,
          1,
          1,
          1,
          1,
          1,
          1,
          1,
          1,
          1,
          1,
          1,
          1,
          1,
          1,
          1,
          1,
          1,
          1,
          1,
          1,
          1,
          1,
          1,
          1,
          1,
          1,
          1,
          1,
          1,
          1,
          1,
          1,
          1,
          1,
          1,
          1,
          1,
          1,
          1,
          1,
          1,
          1,
          1,
          1,
          1,
          1,
          1,
          1,
          1,
          1,
          1,
          1,
          1,
          1,
          1,
          1,
          1,
          1,
          1,
          1,
          1,
          1,
          1,
          1,
          1,
          1,
          1,
          1,
          1,
          1,
          1,
          1,
          1,
          1,
          1,
          1,
          1,
          1,
          1,
          1,
          1,
          1,
          1,
          1,
          1,
          1,
          1,
          1,
          1,
          1,
          1,
          1,
          1,
          1,
          1,
          1,
          1,
          1,
          1,
          1,
          1,
          1,
          1,
          1,
          1,
          1,
          1,
          1,
          1,
          1,
          1,
          1,
          1,
          1,
          1,
          1,
          1,
          1,
          1,
          1,
          1,
          1,
          1,
          1,
          1,
          1,
          1,
          1,
          0.8705572809000085,
          0.8705572809000085,
          1,
          0.8705572809000085,
          0.8705572809000085,
          0.8705572809000085,
          0.8705572809000085,
          1,
          1,
          0.7842621348333472,
          0.7842621348333472,
          0.7398551408903822,
          1,
          0.6763932022500211,
          0.7398551408903822
         ]
        }
       ],
       "layout": {
        "template": {
         "data": {
          "bar": [
           {
            "error_x": {
             "color": "#2a3f5f"
            },
            "error_y": {
             "color": "#2a3f5f"
            },
            "marker": {
             "line": {
              "color": "white",
              "width": 0.5
             },
             "pattern": {
              "fillmode": "overlay",
              "size": 10,
              "solidity": 0.2
             }
            },
            "type": "bar"
           }
          ],
          "barpolar": [
           {
            "marker": {
             "line": {
              "color": "white",
              "width": 0.5
             },
             "pattern": {
              "fillmode": "overlay",
              "size": 10,
              "solidity": 0.2
             }
            },
            "type": "barpolar"
           }
          ],
          "carpet": [
           {
            "aaxis": {
             "endlinecolor": "#2a3f5f",
             "gridcolor": "#C8D4E3",
             "linecolor": "#C8D4E3",
             "minorgridcolor": "#C8D4E3",
             "startlinecolor": "#2a3f5f"
            },
            "baxis": {
             "endlinecolor": "#2a3f5f",
             "gridcolor": "#C8D4E3",
             "linecolor": "#C8D4E3",
             "minorgridcolor": "#C8D4E3",
             "startlinecolor": "#2a3f5f"
            },
            "type": "carpet"
           }
          ],
          "choropleth": [
           {
            "colorbar": {
             "outlinewidth": 0,
             "ticks": ""
            },
            "type": "choropleth"
           }
          ],
          "contour": [
           {
            "colorbar": {
             "outlinewidth": 0,
             "ticks": ""
            },
            "colorscale": [
             [
              0,
              "#0d0887"
             ],
             [
              0.1111111111111111,
              "#46039f"
             ],
             [
              0.2222222222222222,
              "#7201a8"
             ],
             [
              0.3333333333333333,
              "#9c179e"
             ],
             [
              0.4444444444444444,
              "#bd3786"
             ],
             [
              0.5555555555555556,
              "#d8576b"
             ],
             [
              0.6666666666666666,
              "#ed7953"
             ],
             [
              0.7777777777777778,
              "#fb9f3a"
             ],
             [
              0.8888888888888888,
              "#fdca26"
             ],
             [
              1,
              "#f0f921"
             ]
            ],
            "type": "contour"
           }
          ],
          "contourcarpet": [
           {
            "colorbar": {
             "outlinewidth": 0,
             "ticks": ""
            },
            "type": "contourcarpet"
           }
          ],
          "heatmap": [
           {
            "colorbar": {
             "outlinewidth": 0,
             "ticks": ""
            },
            "colorscale": [
             [
              0,
              "#0d0887"
             ],
             [
              0.1111111111111111,
              "#46039f"
             ],
             [
              0.2222222222222222,
              "#7201a8"
             ],
             [
              0.3333333333333333,
              "#9c179e"
             ],
             [
              0.4444444444444444,
              "#bd3786"
             ],
             [
              0.5555555555555556,
              "#d8576b"
             ],
             [
              0.6666666666666666,
              "#ed7953"
             ],
             [
              0.7777777777777778,
              "#fb9f3a"
             ],
             [
              0.8888888888888888,
              "#fdca26"
             ],
             [
              1,
              "#f0f921"
             ]
            ],
            "type": "heatmap"
           }
          ],
          "heatmapgl": [
           {
            "colorbar": {
             "outlinewidth": 0,
             "ticks": ""
            },
            "colorscale": [
             [
              0,
              "#0d0887"
             ],
             [
              0.1111111111111111,
              "#46039f"
             ],
             [
              0.2222222222222222,
              "#7201a8"
             ],
             [
              0.3333333333333333,
              "#9c179e"
             ],
             [
              0.4444444444444444,
              "#bd3786"
             ],
             [
              0.5555555555555556,
              "#d8576b"
             ],
             [
              0.6666666666666666,
              "#ed7953"
             ],
             [
              0.7777777777777778,
              "#fb9f3a"
             ],
             [
              0.8888888888888888,
              "#fdca26"
             ],
             [
              1,
              "#f0f921"
             ]
            ],
            "type": "heatmapgl"
           }
          ],
          "histogram": [
           {
            "marker": {
             "pattern": {
              "fillmode": "overlay",
              "size": 10,
              "solidity": 0.2
             }
            },
            "type": "histogram"
           }
          ],
          "histogram2d": [
           {
            "colorbar": {
             "outlinewidth": 0,
             "ticks": ""
            },
            "colorscale": [
             [
              0,
              "#0d0887"
             ],
             [
              0.1111111111111111,
              "#46039f"
             ],
             [
              0.2222222222222222,
              "#7201a8"
             ],
             [
              0.3333333333333333,
              "#9c179e"
             ],
             [
              0.4444444444444444,
              "#bd3786"
             ],
             [
              0.5555555555555556,
              "#d8576b"
             ],
             [
              0.6666666666666666,
              "#ed7953"
             ],
             [
              0.7777777777777778,
              "#fb9f3a"
             ],
             [
              0.8888888888888888,
              "#fdca26"
             ],
             [
              1,
              "#f0f921"
             ]
            ],
            "type": "histogram2d"
           }
          ],
          "histogram2dcontour": [
           {
            "colorbar": {
             "outlinewidth": 0,
             "ticks": ""
            },
            "colorscale": [
             [
              0,
              "#0d0887"
             ],
             [
              0.1111111111111111,
              "#46039f"
             ],
             [
              0.2222222222222222,
              "#7201a8"
             ],
             [
              0.3333333333333333,
              "#9c179e"
             ],
             [
              0.4444444444444444,
              "#bd3786"
             ],
             [
              0.5555555555555556,
              "#d8576b"
             ],
             [
              0.6666666666666666,
              "#ed7953"
             ],
             [
              0.7777777777777778,
              "#fb9f3a"
             ],
             [
              0.8888888888888888,
              "#fdca26"
             ],
             [
              1,
              "#f0f921"
             ]
            ],
            "type": "histogram2dcontour"
           }
          ],
          "mesh3d": [
           {
            "colorbar": {
             "outlinewidth": 0,
             "ticks": ""
            },
            "type": "mesh3d"
           }
          ],
          "parcoords": [
           {
            "line": {
             "colorbar": {
              "outlinewidth": 0,
              "ticks": ""
             }
            },
            "type": "parcoords"
           }
          ],
          "pie": [
           {
            "automargin": true,
            "type": "pie"
           }
          ],
          "scatter": [
           {
            "fillpattern": {
             "fillmode": "overlay",
             "size": 10,
             "solidity": 0.2
            },
            "type": "scatter"
           }
          ],
          "scatter3d": [
           {
            "line": {
             "colorbar": {
              "outlinewidth": 0,
              "ticks": ""
             }
            },
            "marker": {
             "colorbar": {
              "outlinewidth": 0,
              "ticks": ""
             }
            },
            "type": "scatter3d"
           }
          ],
          "scattercarpet": [
           {
            "marker": {
             "colorbar": {
              "outlinewidth": 0,
              "ticks": ""
             }
            },
            "type": "scattercarpet"
           }
          ],
          "scattergeo": [
           {
            "marker": {
             "colorbar": {
              "outlinewidth": 0,
              "ticks": ""
             }
            },
            "type": "scattergeo"
           }
          ],
          "scattergl": [
           {
            "marker": {
             "colorbar": {
              "outlinewidth": 0,
              "ticks": ""
             }
            },
            "type": "scattergl"
           }
          ],
          "scattermapbox": [
           {
            "marker": {
             "colorbar": {
              "outlinewidth": 0,
              "ticks": ""
             }
            },
            "type": "scattermapbox"
           }
          ],
          "scatterpolar": [
           {
            "marker": {
             "colorbar": {
              "outlinewidth": 0,
              "ticks": ""
             }
            },
            "type": "scatterpolar"
           }
          ],
          "scatterpolargl": [
           {
            "marker": {
             "colorbar": {
              "outlinewidth": 0,
              "ticks": ""
             }
            },
            "type": "scatterpolargl"
           }
          ],
          "scatterternary": [
           {
            "marker": {
             "colorbar": {
              "outlinewidth": 0,
              "ticks": ""
             }
            },
            "type": "scatterternary"
           }
          ],
          "surface": [
           {
            "colorbar": {
             "outlinewidth": 0,
             "ticks": ""
            },
            "colorscale": [
             [
              0,
              "#0d0887"
             ],
             [
              0.1111111111111111,
              "#46039f"
             ],
             [
              0.2222222222222222,
              "#7201a8"
             ],
             [
              0.3333333333333333,
              "#9c179e"
             ],
             [
              0.4444444444444444,
              "#bd3786"
             ],
             [
              0.5555555555555556,
              "#d8576b"
             ],
             [
              0.6666666666666666,
              "#ed7953"
             ],
             [
              0.7777777777777778,
              "#fb9f3a"
             ],
             [
              0.8888888888888888,
              "#fdca26"
             ],
             [
              1,
              "#f0f921"
             ]
            ],
            "type": "surface"
           }
          ],
          "table": [
           {
            "cells": {
             "fill": {
              "color": "#EBF0F8"
             },
             "line": {
              "color": "white"
             }
            },
            "header": {
             "fill": {
              "color": "#C8D4E3"
             },
             "line": {
              "color": "white"
             }
            },
            "type": "table"
           }
          ]
         },
         "layout": {
          "annotationdefaults": {
           "arrowcolor": "#2a3f5f",
           "arrowhead": 0,
           "arrowwidth": 1
          },
          "autotypenumbers": "strict",
          "coloraxis": {
           "colorbar": {
            "outlinewidth": 0,
            "ticks": ""
           }
          },
          "colorscale": {
           "diverging": [
            [
             0,
             "#8e0152"
            ],
            [
             0.1,
             "#c51b7d"
            ],
            [
             0.2,
             "#de77ae"
            ],
            [
             0.3,
             "#f1b6da"
            ],
            [
             0.4,
             "#fde0ef"
            ],
            [
             0.5,
             "#f7f7f7"
            ],
            [
             0.6,
             "#e6f5d0"
            ],
            [
             0.7,
             "#b8e186"
            ],
            [
             0.8,
             "#7fbc41"
            ],
            [
             0.9,
             "#4d9221"
            ],
            [
             1,
             "#276419"
            ]
           ],
           "sequential": [
            [
             0,
             "#0d0887"
            ],
            [
             0.1111111111111111,
             "#46039f"
            ],
            [
             0.2222222222222222,
             "#7201a8"
            ],
            [
             0.3333333333333333,
             "#9c179e"
            ],
            [
             0.4444444444444444,
             "#bd3786"
            ],
            [
             0.5555555555555556,
             "#d8576b"
            ],
            [
             0.6666666666666666,
             "#ed7953"
            ],
            [
             0.7777777777777778,
             "#fb9f3a"
            ],
            [
             0.8888888888888888,
             "#fdca26"
            ],
            [
             1,
             "#f0f921"
            ]
           ],
           "sequentialminus": [
            [
             0,
             "#0d0887"
            ],
            [
             0.1111111111111111,
             "#46039f"
            ],
            [
             0.2222222222222222,
             "#7201a8"
            ],
            [
             0.3333333333333333,
             "#9c179e"
            ],
            [
             0.4444444444444444,
             "#bd3786"
            ],
            [
             0.5555555555555556,
             "#d8576b"
            ],
            [
             0.6666666666666666,
             "#ed7953"
            ],
            [
             0.7777777777777778,
             "#fb9f3a"
            ],
            [
             0.8888888888888888,
             "#fdca26"
            ],
            [
             1,
             "#f0f921"
            ]
           ]
          },
          "colorway": [
           "#636efa",
           "#EF553B",
           "#00cc96",
           "#ab63fa",
           "#FFA15A",
           "#19d3f3",
           "#FF6692",
           "#B6E880",
           "#FF97FF",
           "#FECB52"
          ],
          "font": {
           "color": "#2a3f5f"
          },
          "geo": {
           "bgcolor": "white",
           "lakecolor": "white",
           "landcolor": "white",
           "showlakes": true,
           "showland": true,
           "subunitcolor": "#C8D4E3"
          },
          "hoverlabel": {
           "align": "left"
          },
          "hovermode": "closest",
          "mapbox": {
           "style": "light"
          },
          "paper_bgcolor": "white",
          "plot_bgcolor": "white",
          "polar": {
           "angularaxis": {
            "gridcolor": "#EBF0F8",
            "linecolor": "#EBF0F8",
            "ticks": ""
           },
           "bgcolor": "white",
           "radialaxis": {
            "gridcolor": "#EBF0F8",
            "linecolor": "#EBF0F8",
            "ticks": ""
           }
          },
          "scene": {
           "xaxis": {
            "backgroundcolor": "white",
            "gridcolor": "#DFE8F3",
            "gridwidth": 2,
            "linecolor": "#EBF0F8",
            "showbackground": true,
            "ticks": "",
            "zerolinecolor": "#EBF0F8"
           },
           "yaxis": {
            "backgroundcolor": "white",
            "gridcolor": "#DFE8F3",
            "gridwidth": 2,
            "linecolor": "#EBF0F8",
            "showbackground": true,
            "ticks": "",
            "zerolinecolor": "#EBF0F8"
           },
           "zaxis": {
            "backgroundcolor": "white",
            "gridcolor": "#DFE8F3",
            "gridwidth": 2,
            "linecolor": "#EBF0F8",
            "showbackground": true,
            "ticks": "",
            "zerolinecolor": "#EBF0F8"
           }
          },
          "shapedefaults": {
           "line": {
            "color": "#2a3f5f"
           }
          },
          "ternary": {
           "aaxis": {
            "gridcolor": "#DFE8F3",
            "linecolor": "#A2B1C6",
            "ticks": ""
           },
           "baxis": {
            "gridcolor": "#DFE8F3",
            "linecolor": "#A2B1C6",
            "ticks": ""
           },
           "bgcolor": "white",
           "caxis": {
            "gridcolor": "#DFE8F3",
            "linecolor": "#A2B1C6",
            "ticks": ""
           }
          },
          "title": {
           "x": 0.05
          },
          "xaxis": {
           "automargin": true,
           "gridcolor": "#EBF0F8",
           "linecolor": "#EBF0F8",
           "ticks": "",
           "title": {
            "standoff": 15
           },
           "zerolinecolor": "#EBF0F8",
           "zerolinewidth": 2
          },
          "yaxis": {
           "automargin": true,
           "gridcolor": "#EBF0F8",
           "linecolor": "#EBF0F8",
           "ticks": "",
           "title": {
            "standoff": 15
           },
           "zerolinecolor": "#EBF0F8",
           "zerolinewidth": 2
          }
         }
        },
        "title": {
         "text": "Cross-Validation (N=5) Mean F1 score with Error Bands"
        },
        "xaxis": {
         "title": {
          "text": "Training Steps"
         }
        },
        "yaxis": {
         "range": [
          0.5,
          1
         ],
         "title": {
          "text": "Performance Score"
         }
        }
       }
      }
     },
     "metadata": {},
     "output_type": "display_data"
    }
   ],
   "source": [
    "from ARISA_DSML.train import plot_error_scatter\n",
    "cv_results = pd.read_csv(cv_output_path)\n",
    "plot_error_scatter(\n",
    "    df_plot=cv_results,\n",
    "    name=\"Mean F1 Score\",\n",
    "    title=\"Cross-Validation (N=5) Mean F1 score with Error Bands\",\n",
    "    xtitle=\"Training Steps\",\n",
    "    ytitle=\"Performance Score\",\n",
    "    yaxis_range=[0.5, 1],\n",
    ")\n"
   ]
  },
  {
   "cell_type": "code",
   "execution_count": 113,
   "id": "c6921b0d",
   "metadata": {},
   "outputs": [
    {
     "data": {
      "application/vnd.plotly.v1+json": {
       "config": {
        "plotlyServerURL": "https://plot.ly"
       },
       "data": [
        {
         "line": {
          "color": "blue"
         },
         "mode": "lines",
         "name": "Mean logloss",
         "type": "scatter",
         "x": [
          0,
          1,
          2,
          3,
          4,
          5,
          6,
          7,
          8,
          9,
          10,
          11,
          12,
          13,
          14,
          15,
          16,
          17,
          18,
          19,
          20,
          21,
          22,
          23,
          24,
          25,
          26,
          27,
          28,
          29,
          30,
          31,
          32,
          33,
          34,
          35,
          36,
          37,
          38,
          39,
          40,
          41,
          42,
          43,
          44,
          45,
          46,
          47,
          48,
          49,
          50,
          51,
          52,
          53,
          54,
          55,
          56,
          57,
          58,
          59,
          60,
          61,
          62,
          63,
          64,
          65,
          66,
          67,
          68,
          69,
          70,
          71,
          72,
          73,
          74,
          75,
          76,
          77,
          78,
          79,
          80,
          81,
          82,
          83,
          84,
          85,
          86,
          87,
          88,
          89,
          90,
          91,
          92,
          93,
          94,
          95,
          96,
          97,
          98,
          99,
          100,
          101,
          102,
          103,
          104,
          105,
          106,
          107,
          108,
          109,
          110,
          111,
          112,
          113,
          114,
          115,
          116,
          117,
          118,
          119,
          120,
          121,
          122,
          123,
          124,
          125,
          126,
          127,
          128,
          129,
          130,
          131,
          132,
          133,
          134,
          135,
          136,
          137,
          138,
          139,
          140,
          141,
          142,
          143,
          144,
          145,
          146,
          147,
          148,
          149,
          150,
          151,
          152,
          153,
          154,
          155,
          156,
          157,
          158,
          159,
          160,
          161,
          162,
          163,
          164,
          165,
          166,
          167,
          168,
          169,
          170,
          171,
          172,
          173,
          174,
          175,
          176,
          177,
          178,
          179,
          180,
          181,
          182,
          183,
          184,
          185
         ],
         "y": [
          0.3875499937547153,
          0.2237740645567975,
          0.1161567033089532,
          0.0946049149738547,
          0.0684435010573544,
          0.0495854672522331,
          0.0307657533406292,
          0.0305034654167851,
          0.0309583638609584,
          0.0315600311733939,
          0.0310274309812958,
          0.0271876038422131,
          0.0204026521945922,
          0.0217054546787115,
          0.0215262065563037,
          0.0171254684570444,
          0.019501497225252,
          0.0176129011668038,
          0.0150033642779595,
          0.0127176754917238,
          0.0115502239263697,
          0.0104174111491633,
          0.010510389671957,
          0.0103016457405253,
          0.0091129029632258,
          0.0080345119832771,
          0.0078682459312747,
          0.0079032922173948,
          0.0078238919443596,
          0.0078192969241176,
          0.0077584037878086,
          0.0076768029771364,
          0.0075358280518458,
          0.0076008919452427,
          0.0076686567161913,
          0.0076672656390676,
          0.0076660278926764,
          0.0076159924695045,
          0.0076157204099436,
          0.0076153021018541,
          0.0076146456264962,
          0.0076137370768916,
          0.0076090048977101,
          0.0076090048977101,
          0.0076090048977101,
          0.0076090048977101,
          0.0076090048977101,
          0.0076091401053245,
          0.0076091401053245,
          0.0076091401053245,
          0.0076091401053245,
          0.0076091401053245,
          0.0076091401053245,
          0.0076091401053245,
          0.0076091401053245,
          0.0076091401053245,
          0.0076091401053245,
          0.0076091401053245,
          0.0076091401053245,
          0.0076091401053245,
          0.0076091401053245,
          0.0076091401053245,
          0.0076096358328616,
          0.0076096358328616,
          0.0076096358328616,
          0.0076096358328616,
          0.0076096358328616,
          0.0076096358328616,
          0.0076096358328616,
          0.0076096358328616,
          0.0076096358328616,
          0.0076096358328616,
          0.0076096358328616,
          0.0076096358328616,
          0.0076096358328616,
          0.0076096358328616,
          0.0076096358328616,
          0.0076096358328616,
          0.0076096358328616,
          0.0076096358328616,
          0.0076096358328616,
          0.0076096358328616,
          0.0076096358328616,
          0.0076096358328616,
          0.0076096358328616,
          0.0076094501515995,
          0.0076094501515995,
          0.0076094498231602,
          0.0076094494947685,
          0.0076094491672876,
          0.0076094487693238,
          0.0076094484620692,
          0.0076094484620692,
          0.0076094484620692,
          0.0076094482633127,
          0.0076094482633127,
          0.0076094482633127,
          0.0076094482633127,
          0.0076094482633127,
          0.0076094478468184,
          0.0076094470513684,
          0.0076094470513684,
          0.007609446720394,
          0.007609446720394,
          0.0076094463924478,
          0.0076094463924478,
          0.0076094461815218,
          0.0076094461815218,
          0.0076094461815218,
          0.0076094461815218,
          0.0076094461815218,
          0.0076094461815218,
          0.0076094461815218,
          0.0076094461815218,
          0.0076094458536619,
          0.0076094455258494,
          0.0076094455258494,
          0.0076094455258494,
          0.0076094451980845,
          0.0076094451980845,
          0.0076094451980845,
          0.0076094451980845,
          0.0076094451980845,
          0.0076094451980845,
          0.0076094451980845,
          0.0076094451980845,
          0.0076094451980845,
          0.0076094451980845,
          0.0076094451980845,
          0.0076094451980845,
          0.0076094451980845,
          0.0076094451980845,
          0.0076094451980845,
          0.0076094451980845,
          0.0076094451980845,
          0.0076094451980845,
          0.0076094451980845,
          0.0076094451980845,
          0.0076094451980845,
          0.0076094451980845,
          0.0076094451980845,
          0.0076094451980845,
          0.0076094451980845,
          0.0076094451980845,
          0.0076094451980845,
          0.0076094451980845,
          0.0076094451980845,
          0.0076094451980845,
          0.0076094451980845,
          0.0076094451980845,
          0.0076094451980845,
          0.0076094451980845,
          0.0076094451980845,
          0.0076094451980845,
          0.0076094451980845,
          0.0076094451980845,
          0.0076094451980845,
          0.0076094451980845,
          0.0076094451980845,
          0.0076094451980845,
          0.0076094451980845,
          0.0076094451980845,
          0.0076094451980845,
          0.0076094451980845,
          0.0076094451980845,
          0.0076094451980845,
          0.0076094451980845,
          0.0076094451980845,
          0.0076094451980845,
          0.0076094451980845,
          0.0076094451980845,
          0.0076094451980845,
          0.0076094451980845,
          0.0076094451980845,
          0.0076094451980845,
          0.0076094451980845,
          0.0076094451980845,
          0.0076094451980845,
          0.0076094451980845,
          0.0076094451980845,
          0.0076094451980845,
          0.0076094451980845,
          0.0076094451980845,
          0.0076094451980845,
          0.0076094451980845,
          0.0076094451980845
         ]
        },
        {
         "fill": "toself",
         "fillcolor": "rgba(0, 0, 255, 0.2)",
         "hoverinfo": "skip",
         "line": {
          "color": "rgba(255, 255, 255, 0)"
         },
         "showlegend": false,
         "type": "scatter",
         "x": [
          0,
          1,
          2,
          3,
          4,
          5,
          6,
          7,
          8,
          9,
          10,
          11,
          12,
          13,
          14,
          15,
          16,
          17,
          18,
          19,
          20,
          21,
          22,
          23,
          24,
          25,
          26,
          27,
          28,
          29,
          30,
          31,
          32,
          33,
          34,
          35,
          36,
          37,
          38,
          39,
          40,
          41,
          42,
          43,
          44,
          45,
          46,
          47,
          48,
          49,
          50,
          51,
          52,
          53,
          54,
          55,
          56,
          57,
          58,
          59,
          60,
          61,
          62,
          63,
          64,
          65,
          66,
          67,
          68,
          69,
          70,
          71,
          72,
          73,
          74,
          75,
          76,
          77,
          78,
          79,
          80,
          81,
          82,
          83,
          84,
          85,
          86,
          87,
          88,
          89,
          90,
          91,
          92,
          93,
          94,
          95,
          96,
          97,
          98,
          99,
          100,
          101,
          102,
          103,
          104,
          105,
          106,
          107,
          108,
          109,
          110,
          111,
          112,
          113,
          114,
          115,
          116,
          117,
          118,
          119,
          120,
          121,
          122,
          123,
          124,
          125,
          126,
          127,
          128,
          129,
          130,
          131,
          132,
          133,
          134,
          135,
          136,
          137,
          138,
          139,
          140,
          141,
          142,
          143,
          144,
          145,
          146,
          147,
          148,
          149,
          150,
          151,
          152,
          153,
          154,
          155,
          156,
          157,
          158,
          159,
          160,
          161,
          162,
          163,
          164,
          165,
          166,
          167,
          168,
          169,
          170,
          171,
          172,
          173,
          174,
          175,
          176,
          177,
          178,
          179,
          180,
          181,
          182,
          183,
          184,
          185,
          185,
          184,
          183,
          182,
          181,
          180,
          179,
          178,
          177,
          176,
          175,
          174,
          173,
          172,
          171,
          170,
          169,
          168,
          167,
          166,
          165,
          164,
          163,
          162,
          161,
          160,
          159,
          158,
          157,
          156,
          155,
          154,
          153,
          152,
          151,
          150,
          149,
          148,
          147,
          146,
          145,
          144,
          143,
          142,
          141,
          140,
          139,
          138,
          137,
          136,
          135,
          134,
          133,
          132,
          131,
          130,
          129,
          128,
          127,
          126,
          125,
          124,
          123,
          122,
          121,
          120,
          119,
          118,
          117,
          116,
          115,
          114,
          113,
          112,
          111,
          110,
          109,
          108,
          107,
          106,
          105,
          104,
          103,
          102,
          101,
          100,
          99,
          98,
          97,
          96,
          95,
          94,
          93,
          92,
          91,
          90,
          89,
          88,
          87,
          86,
          85,
          84,
          83,
          82,
          81,
          80,
          79,
          78,
          77,
          76,
          75,
          74,
          73,
          72,
          71,
          70,
          69,
          68,
          67,
          66,
          65,
          64,
          63,
          62,
          61,
          60,
          59,
          58,
          57,
          56,
          55,
          54,
          53,
          52,
          51,
          50,
          49,
          48,
          47,
          46,
          45,
          44,
          43,
          42,
          41,
          40,
          39,
          38,
          37,
          36,
          35,
          34,
          33,
          32,
          31,
          30,
          29,
          28,
          27,
          26,
          25,
          24,
          23,
          22,
          21,
          20,
          19,
          18,
          17,
          16,
          15,
          14,
          13,
          12,
          11,
          10,
          9,
          8,
          7,
          6,
          5,
          4,
          3,
          2,
          1,
          0
         ],
         "y": [
          0.4749150178224755,
          0.3086317819746175,
          0.165400204647645,
          0.1731860122437185,
          0.13730220073636878,
          0.1004112965670565,
          0.06486659804240791,
          0.06447302577661171,
          0.0710150205484943,
          0.079204329008636,
          0.0788104894678347,
          0.0679710983453871,
          0.050105857912125504,
          0.056586257638671394,
          0.0564552820130758,
          0.0444485752813037,
          0.0523316042546773,
          0.0468327047466919,
          0.0397413556908031,
          0.0328075157261544,
          0.029305985244416098,
          0.0256025948955343,
          0.026500175475332198,
          0.0262222232305206,
          0.0231174021282604,
          0.0196647405055294,
          0.019395394859807402,
          0.0194515052011583,
          0.0193260711705405,
          0.0193189351103277,
          0.0192241817285333,
          0.0191058264438143,
          0.0188976157499552,
          0.0189920794039971,
          0.0190935233308748,
          0.0190934284508279,
          0.0190932025526106,
          0.019019390062306102,
          0.0190193395934334,
          0.0190192620493865,
          0.0190191404891182,
          0.0190189725222728,
          0.019018102739014102,
          0.019018102739014102,
          0.019018102739014102,
          0.019018102739014102,
          0.019018102739014102,
          0.0190183040976773,
          0.0190183040976773,
          0.0190183040976773,
          0.0190183040976773,
          0.0190183040976773,
          0.0190183040976773,
          0.0190183040976773,
          0.0190183040976773,
          0.0190183040976773,
          0.0190183040976773,
          0.0190183040976773,
          0.0190183040976773,
          0.0190183040976773,
          0.0190183040976773,
          0.0190183040976773,
          0.0190197864590847,
          0.0190197864590847,
          0.0190197864590847,
          0.0190197864590847,
          0.0190197864590847,
          0.0190197864590847,
          0.0190197864590847,
          0.0190197864590847,
          0.0190197864590847,
          0.0190197864590847,
          0.0190197864590847,
          0.0190197864590847,
          0.0190197864590847,
          0.0190197864590847,
          0.0190197864590847,
          0.0190197864590847,
          0.0190197864590847,
          0.0190197864590847,
          0.0190197864590847,
          0.0190197864590847,
          0.0190197864590847,
          0.0190197864590847,
          0.0190197864590847,
          0.0190197552406608,
          0.0190197552406608,
          0.0190197551854521,
          0.0190197551302515,
          0.019019755075204002,
          0.0190197550083089,
          0.019019754956661403,
          0.019019754956661403,
          0.019019754956661403,
          0.0190197549232517,
          0.0190197549232517,
          0.0190197549232517,
          0.0190197549232517,
          0.0190197549232517,
          0.0190197548532418,
          0.0190197547195322,
          0.0190197547195322,
          0.019019754663897798,
          0.019019754663897798,
          0.0190197546087724,
          0.0190197546087724,
          0.0190197545733173,
          0.0190197545733173,
          0.0190197545733173,
          0.0190197545733173,
          0.0190197545733173,
          0.0190197545733173,
          0.0190197545733173,
          0.0190197545733173,
          0.0190197545182066,
          0.019019754463103798,
          0.019019754463103798,
          0.019019754463103798,
          0.019019754408009,
          0.019019754408009,
          0.019019754408009,
          0.019019754408009,
          0.019019754408009,
          0.019019754408009,
          0.019019754408009,
          0.019019754408009,
          0.019019754408009,
          0.019019754408009,
          0.019019754408009,
          0.019019754408009,
          0.019019754408009,
          0.019019754408009,
          0.019019754408009,
          0.019019754408009,
          0.019019754408009,
          0.019019754408009,
          0.019019754408009,
          0.019019754408009,
          0.019019754408009,
          0.019019754408009,
          0.019019754408009,
          0.019019754408009,
          0.019019754408009,
          0.019019754408009,
          0.019019754408009,
          0.019019754408009,
          0.019019754408009,
          0.019019754408009,
          0.019019754408009,
          0.019019754408009,
          0.019019754408009,
          0.019019754408009,
          0.019019754408009,
          0.019019754408009,
          0.019019754408009,
          0.019019754408009,
          0.019019754408009,
          0.019019754408009,
          0.019019754408009,
          0.019019754408009,
          0.019019754408009,
          0.019019754408009,
          0.019019754408009,
          0.019019754408009,
          0.019019754408009,
          0.019019754408009,
          0.019019754408009,
          0.019019754408009,
          0.019019754408009,
          0.019019754408009,
          0.019019754408009,
          0.019019754408009,
          0.019019754408009,
          0.019019754408009,
          0.019019754408009,
          0.019019754408009,
          0.019019754408009,
          0.019019754408009,
          0.019019754408009,
          0.019019754408009,
          0.019019754408009,
          0.019019754408009,
          0.019019754408009,
          0.019019754408009,
          0.019019754408009,
          0.019019754408009,
          -0.0038008640118400005,
          -0.0038008640118400005,
          -0.0038008640118400005,
          -0.0038008640118400005,
          -0.0038008640118400005,
          -0.0038008640118400005,
          -0.0038008640118400005,
          -0.0038008640118400005,
          -0.0038008640118400005,
          -0.0038008640118400005,
          -0.0038008640118400005,
          -0.0038008640118400005,
          -0.0038008640118400005,
          -0.0038008640118400005,
          -0.0038008640118400005,
          -0.0038008640118400005,
          -0.0038008640118400005,
          -0.0038008640118400005,
          -0.0038008640118400005,
          -0.0038008640118400005,
          -0.0038008640118400005,
          -0.0038008640118400005,
          -0.0038008640118400005,
          -0.0038008640118400005,
          -0.0038008640118400005,
          -0.0038008640118400005,
          -0.0038008640118400005,
          -0.0038008640118400005,
          -0.0038008640118400005,
          -0.0038008640118400005,
          -0.0038008640118400005,
          -0.0038008640118400005,
          -0.0038008640118400005,
          -0.0038008640118400005,
          -0.0038008640118400005,
          -0.0038008640118400005,
          -0.0038008640118400005,
          -0.0038008640118400005,
          -0.0038008640118400005,
          -0.0038008640118400005,
          -0.0038008640118400005,
          -0.0038008640118400005,
          -0.0038008640118400005,
          -0.0038008640118400005,
          -0.0038008640118400005,
          -0.0038008640118400005,
          -0.0038008640118400005,
          -0.0038008640118400005,
          -0.0038008640118400005,
          -0.0038008640118400005,
          -0.0038008640118400005,
          -0.0038008640118400005,
          -0.0038008640118400005,
          -0.0038008640118400005,
          -0.0038008640118400005,
          -0.0038008640118400005,
          -0.0038008640118400005,
          -0.0038008640118400005,
          -0.0038008640118400005,
          -0.0038008640118400005,
          -0.0038008640118400005,
          -0.0038008640118400005,
          -0.0038008640118400005,
          -0.0038008640118400005,
          -0.0038008640118400005,
          -0.0038008640118400005,
          -0.0038008640118400005,
          -0.0038008640118400005,
          -0.003800863411405,
          -0.003800863411405,
          -0.003800863411405,
          -0.0038008628108827996,
          -0.0038008622102737,
          -0.0038008622102737,
          -0.0038008622102737,
          -0.0038008622102737,
          -0.0038008622102737,
          -0.0038008622102737,
          -0.0038008622102737,
          -0.0038008622102737,
          -0.0038008618238768,
          -0.0038008618238768,
          -0.003800861223109799,
          -0.003800861223109799,
          -0.0038008606167954,
          -0.0038008606167954,
          -0.0038008591596049995,
          -0.0038008583966262994,
          -0.0038008583966262994,
          -0.0038008583966262994,
          -0.0038008583966262994,
          -0.0038008583966262994,
          -0.0038008580325230006,
          -0.0038008580325230006,
          -0.0038008580325230006,
          -0.003800857469661299,
          -0.0038008567406288005,
          -0.0038008561407145,
          -0.0038008555391317008,
          -0.003800854937461801,
          -0.003800854937461801,
          -0.0038005147933615003,
          -0.0038005147933615003,
          -0.0038005147933615003,
          -0.0038005147933615003,
          -0.0038005147933615003,
          -0.0038005147933615003,
          -0.0038005147933615003,
          -0.0038005147933615003,
          -0.0038005147933615003,
          -0.0038005147933615003,
          -0.0038005147933615003,
          -0.0038005147933615003,
          -0.0038005147933615003,
          -0.0038005147933615003,
          -0.0038005147933615003,
          -0.0038005147933615003,
          -0.0038005147933615003,
          -0.0038005147933615003,
          -0.0038005147933615003,
          -0.0038005147933615003,
          -0.0038005147933615003,
          -0.0038005147933615003,
          -0.0038005147933615003,
          -0.0038000238870283002,
          -0.0038000238870283002,
          -0.0038000238870283002,
          -0.0038000238870283002,
          -0.0038000238870283002,
          -0.0038000238870283002,
          -0.0038000238870283002,
          -0.0038000238870283002,
          -0.0038000238870283002,
          -0.0038000238870283002,
          -0.0038000238870283002,
          -0.0038000238870283002,
          -0.0038000238870283002,
          -0.0038000238870283002,
          -0.0038000238870283002,
          -0.0038000929435939006,
          -0.0038000929435939006,
          -0.0038000929435939006,
          -0.0038000929435939006,
          -0.0038000929435939006,
          -0.0037914983684896007,
          -0.003789849236125799,
          -0.0037886578456783,
          -0.0037878987735462,
          -0.0037874051232971006,
          -0.003761146767257799,
          -0.0037588971726926993,
          -0.0037562098984922007,
          -0.0037902955135116993,
          -0.0038259596462636002,
          -0.003752220489541499,
          -0.0037073741529160993,
          -0.0036803412620925006,
          -0.0036782872818212995,
          -0.0036449207663687005,
          -0.0036589029972579987,
          -0.0035957165389752,
          -0.0048915962018088,
          -0.005618931749469999,
          -0.0054793961314181985,
          -0.0047677725972077,
          -0.0062055373916767,
          -0.007372164742706801,
          -0.0097346271348841,
          -0.011606902413084298,
          -0.013328609804173299,
          -0.0101976383672149,
          -0.013402868900468403,
          -0.0131753482812484,
          -0.0093005535229411,
          -0.0135958906609609,
          -0.016755627505243103,
          -0.0160842666618482,
          -0.009098292826577498,
          -0.003466094943041502,
          -0.0033350913611495045,
          -0.0012403620625903028,
          -0.0004151986216599929,
          0.016023817703990903,
          0.0669132019702614,
          0.1389163471389775,
          0.3001849696869551
         ]
        }
       ],
       "layout": {
        "template": {
         "data": {
          "bar": [
           {
            "error_x": {
             "color": "#2a3f5f"
            },
            "error_y": {
             "color": "#2a3f5f"
            },
            "marker": {
             "line": {
              "color": "white",
              "width": 0.5
             },
             "pattern": {
              "fillmode": "overlay",
              "size": 10,
              "solidity": 0.2
             }
            },
            "type": "bar"
           }
          ],
          "barpolar": [
           {
            "marker": {
             "line": {
              "color": "white",
              "width": 0.5
             },
             "pattern": {
              "fillmode": "overlay",
              "size": 10,
              "solidity": 0.2
             }
            },
            "type": "barpolar"
           }
          ],
          "carpet": [
           {
            "aaxis": {
             "endlinecolor": "#2a3f5f",
             "gridcolor": "#C8D4E3",
             "linecolor": "#C8D4E3",
             "minorgridcolor": "#C8D4E3",
             "startlinecolor": "#2a3f5f"
            },
            "baxis": {
             "endlinecolor": "#2a3f5f",
             "gridcolor": "#C8D4E3",
             "linecolor": "#C8D4E3",
             "minorgridcolor": "#C8D4E3",
             "startlinecolor": "#2a3f5f"
            },
            "type": "carpet"
           }
          ],
          "choropleth": [
           {
            "colorbar": {
             "outlinewidth": 0,
             "ticks": ""
            },
            "type": "choropleth"
           }
          ],
          "contour": [
           {
            "colorbar": {
             "outlinewidth": 0,
             "ticks": ""
            },
            "colorscale": [
             [
              0,
              "#0d0887"
             ],
             [
              0.1111111111111111,
              "#46039f"
             ],
             [
              0.2222222222222222,
              "#7201a8"
             ],
             [
              0.3333333333333333,
              "#9c179e"
             ],
             [
              0.4444444444444444,
              "#bd3786"
             ],
             [
              0.5555555555555556,
              "#d8576b"
             ],
             [
              0.6666666666666666,
              "#ed7953"
             ],
             [
              0.7777777777777778,
              "#fb9f3a"
             ],
             [
              0.8888888888888888,
              "#fdca26"
             ],
             [
              1,
              "#f0f921"
             ]
            ],
            "type": "contour"
           }
          ],
          "contourcarpet": [
           {
            "colorbar": {
             "outlinewidth": 0,
             "ticks": ""
            },
            "type": "contourcarpet"
           }
          ],
          "heatmap": [
           {
            "colorbar": {
             "outlinewidth": 0,
             "ticks": ""
            },
            "colorscale": [
             [
              0,
              "#0d0887"
             ],
             [
              0.1111111111111111,
              "#46039f"
             ],
             [
              0.2222222222222222,
              "#7201a8"
             ],
             [
              0.3333333333333333,
              "#9c179e"
             ],
             [
              0.4444444444444444,
              "#bd3786"
             ],
             [
              0.5555555555555556,
              "#d8576b"
             ],
             [
              0.6666666666666666,
              "#ed7953"
             ],
             [
              0.7777777777777778,
              "#fb9f3a"
             ],
             [
              0.8888888888888888,
              "#fdca26"
             ],
             [
              1,
              "#f0f921"
             ]
            ],
            "type": "heatmap"
           }
          ],
          "heatmapgl": [
           {
            "colorbar": {
             "outlinewidth": 0,
             "ticks": ""
            },
            "colorscale": [
             [
              0,
              "#0d0887"
             ],
             [
              0.1111111111111111,
              "#46039f"
             ],
             [
              0.2222222222222222,
              "#7201a8"
             ],
             [
              0.3333333333333333,
              "#9c179e"
             ],
             [
              0.4444444444444444,
              "#bd3786"
             ],
             [
              0.5555555555555556,
              "#d8576b"
             ],
             [
              0.6666666666666666,
              "#ed7953"
             ],
             [
              0.7777777777777778,
              "#fb9f3a"
             ],
             [
              0.8888888888888888,
              "#fdca26"
             ],
             [
              1,
              "#f0f921"
             ]
            ],
            "type": "heatmapgl"
           }
          ],
          "histogram": [
           {
            "marker": {
             "pattern": {
              "fillmode": "overlay",
              "size": 10,
              "solidity": 0.2
             }
            },
            "type": "histogram"
           }
          ],
          "histogram2d": [
           {
            "colorbar": {
             "outlinewidth": 0,
             "ticks": ""
            },
            "colorscale": [
             [
              0,
              "#0d0887"
             ],
             [
              0.1111111111111111,
              "#46039f"
             ],
             [
              0.2222222222222222,
              "#7201a8"
             ],
             [
              0.3333333333333333,
              "#9c179e"
             ],
             [
              0.4444444444444444,
              "#bd3786"
             ],
             [
              0.5555555555555556,
              "#d8576b"
             ],
             [
              0.6666666666666666,
              "#ed7953"
             ],
             [
              0.7777777777777778,
              "#fb9f3a"
             ],
             [
              0.8888888888888888,
              "#fdca26"
             ],
             [
              1,
              "#f0f921"
             ]
            ],
            "type": "histogram2d"
           }
          ],
          "histogram2dcontour": [
           {
            "colorbar": {
             "outlinewidth": 0,
             "ticks": ""
            },
            "colorscale": [
             [
              0,
              "#0d0887"
             ],
             [
              0.1111111111111111,
              "#46039f"
             ],
             [
              0.2222222222222222,
              "#7201a8"
             ],
             [
              0.3333333333333333,
              "#9c179e"
             ],
             [
              0.4444444444444444,
              "#bd3786"
             ],
             [
              0.5555555555555556,
              "#d8576b"
             ],
             [
              0.6666666666666666,
              "#ed7953"
             ],
             [
              0.7777777777777778,
              "#fb9f3a"
             ],
             [
              0.8888888888888888,
              "#fdca26"
             ],
             [
              1,
              "#f0f921"
             ]
            ],
            "type": "histogram2dcontour"
           }
          ],
          "mesh3d": [
           {
            "colorbar": {
             "outlinewidth": 0,
             "ticks": ""
            },
            "type": "mesh3d"
           }
          ],
          "parcoords": [
           {
            "line": {
             "colorbar": {
              "outlinewidth": 0,
              "ticks": ""
             }
            },
            "type": "parcoords"
           }
          ],
          "pie": [
           {
            "automargin": true,
            "type": "pie"
           }
          ],
          "scatter": [
           {
            "fillpattern": {
             "fillmode": "overlay",
             "size": 10,
             "solidity": 0.2
            },
            "type": "scatter"
           }
          ],
          "scatter3d": [
           {
            "line": {
             "colorbar": {
              "outlinewidth": 0,
              "ticks": ""
             }
            },
            "marker": {
             "colorbar": {
              "outlinewidth": 0,
              "ticks": ""
             }
            },
            "type": "scatter3d"
           }
          ],
          "scattercarpet": [
           {
            "marker": {
             "colorbar": {
              "outlinewidth": 0,
              "ticks": ""
             }
            },
            "type": "scattercarpet"
           }
          ],
          "scattergeo": [
           {
            "marker": {
             "colorbar": {
              "outlinewidth": 0,
              "ticks": ""
             }
            },
            "type": "scattergeo"
           }
          ],
          "scattergl": [
           {
            "marker": {
             "colorbar": {
              "outlinewidth": 0,
              "ticks": ""
             }
            },
            "type": "scattergl"
           }
          ],
          "scattermapbox": [
           {
            "marker": {
             "colorbar": {
              "outlinewidth": 0,
              "ticks": ""
             }
            },
            "type": "scattermapbox"
           }
          ],
          "scatterpolar": [
           {
            "marker": {
             "colorbar": {
              "outlinewidth": 0,
              "ticks": ""
             }
            },
            "type": "scatterpolar"
           }
          ],
          "scatterpolargl": [
           {
            "marker": {
             "colorbar": {
              "outlinewidth": 0,
              "ticks": ""
             }
            },
            "type": "scatterpolargl"
           }
          ],
          "scatterternary": [
           {
            "marker": {
             "colorbar": {
              "outlinewidth": 0,
              "ticks": ""
             }
            },
            "type": "scatterternary"
           }
          ],
          "surface": [
           {
            "colorbar": {
             "outlinewidth": 0,
             "ticks": ""
            },
            "colorscale": [
             [
              0,
              "#0d0887"
             ],
             [
              0.1111111111111111,
              "#46039f"
             ],
             [
              0.2222222222222222,
              "#7201a8"
             ],
             [
              0.3333333333333333,
              "#9c179e"
             ],
             [
              0.4444444444444444,
              "#bd3786"
             ],
             [
              0.5555555555555556,
              "#d8576b"
             ],
             [
              0.6666666666666666,
              "#ed7953"
             ],
             [
              0.7777777777777778,
              "#fb9f3a"
             ],
             [
              0.8888888888888888,
              "#fdca26"
             ],
             [
              1,
              "#f0f921"
             ]
            ],
            "type": "surface"
           }
          ],
          "table": [
           {
            "cells": {
             "fill": {
              "color": "#EBF0F8"
             },
             "line": {
              "color": "white"
             }
            },
            "header": {
             "fill": {
              "color": "#C8D4E3"
             },
             "line": {
              "color": "white"
             }
            },
            "type": "table"
           }
          ]
         },
         "layout": {
          "annotationdefaults": {
           "arrowcolor": "#2a3f5f",
           "arrowhead": 0,
           "arrowwidth": 1
          },
          "autotypenumbers": "strict",
          "coloraxis": {
           "colorbar": {
            "outlinewidth": 0,
            "ticks": ""
           }
          },
          "colorscale": {
           "diverging": [
            [
             0,
             "#8e0152"
            ],
            [
             0.1,
             "#c51b7d"
            ],
            [
             0.2,
             "#de77ae"
            ],
            [
             0.3,
             "#f1b6da"
            ],
            [
             0.4,
             "#fde0ef"
            ],
            [
             0.5,
             "#f7f7f7"
            ],
            [
             0.6,
             "#e6f5d0"
            ],
            [
             0.7,
             "#b8e186"
            ],
            [
             0.8,
             "#7fbc41"
            ],
            [
             0.9,
             "#4d9221"
            ],
            [
             1,
             "#276419"
            ]
           ],
           "sequential": [
            [
             0,
             "#0d0887"
            ],
            [
             0.1111111111111111,
             "#46039f"
            ],
            [
             0.2222222222222222,
             "#7201a8"
            ],
            [
             0.3333333333333333,
             "#9c179e"
            ],
            [
             0.4444444444444444,
             "#bd3786"
            ],
            [
             0.5555555555555556,
             "#d8576b"
            ],
            [
             0.6666666666666666,
             "#ed7953"
            ],
            [
             0.7777777777777778,
             "#fb9f3a"
            ],
            [
             0.8888888888888888,
             "#fdca26"
            ],
            [
             1,
             "#f0f921"
            ]
           ],
           "sequentialminus": [
            [
             0,
             "#0d0887"
            ],
            [
             0.1111111111111111,
             "#46039f"
            ],
            [
             0.2222222222222222,
             "#7201a8"
            ],
            [
             0.3333333333333333,
             "#9c179e"
            ],
            [
             0.4444444444444444,
             "#bd3786"
            ],
            [
             0.5555555555555556,
             "#d8576b"
            ],
            [
             0.6666666666666666,
             "#ed7953"
            ],
            [
             0.7777777777777778,
             "#fb9f3a"
            ],
            [
             0.8888888888888888,
             "#fdca26"
            ],
            [
             1,
             "#f0f921"
            ]
           ]
          },
          "colorway": [
           "#636efa",
           "#EF553B",
           "#00cc96",
           "#ab63fa",
           "#FFA15A",
           "#19d3f3",
           "#FF6692",
           "#B6E880",
           "#FF97FF",
           "#FECB52"
          ],
          "font": {
           "color": "#2a3f5f"
          },
          "geo": {
           "bgcolor": "white",
           "lakecolor": "white",
           "landcolor": "white",
           "showlakes": true,
           "showland": true,
           "subunitcolor": "#C8D4E3"
          },
          "hoverlabel": {
           "align": "left"
          },
          "hovermode": "closest",
          "mapbox": {
           "style": "light"
          },
          "paper_bgcolor": "white",
          "plot_bgcolor": "white",
          "polar": {
           "angularaxis": {
            "gridcolor": "#EBF0F8",
            "linecolor": "#EBF0F8",
            "ticks": ""
           },
           "bgcolor": "white",
           "radialaxis": {
            "gridcolor": "#EBF0F8",
            "linecolor": "#EBF0F8",
            "ticks": ""
           }
          },
          "scene": {
           "xaxis": {
            "backgroundcolor": "white",
            "gridcolor": "#DFE8F3",
            "gridwidth": 2,
            "linecolor": "#EBF0F8",
            "showbackground": true,
            "ticks": "",
            "zerolinecolor": "#EBF0F8"
           },
           "yaxis": {
            "backgroundcolor": "white",
            "gridcolor": "#DFE8F3",
            "gridwidth": 2,
            "linecolor": "#EBF0F8",
            "showbackground": true,
            "ticks": "",
            "zerolinecolor": "#EBF0F8"
           },
           "zaxis": {
            "backgroundcolor": "white",
            "gridcolor": "#DFE8F3",
            "gridwidth": 2,
            "linecolor": "#EBF0F8",
            "showbackground": true,
            "ticks": "",
            "zerolinecolor": "#EBF0F8"
           }
          },
          "shapedefaults": {
           "line": {
            "color": "#2a3f5f"
           }
          },
          "ternary": {
           "aaxis": {
            "gridcolor": "#DFE8F3",
            "linecolor": "#A2B1C6",
            "ticks": ""
           },
           "baxis": {
            "gridcolor": "#DFE8F3",
            "linecolor": "#A2B1C6",
            "ticks": ""
           },
           "bgcolor": "white",
           "caxis": {
            "gridcolor": "#DFE8F3",
            "linecolor": "#A2B1C6",
            "ticks": ""
           }
          },
          "title": {
           "x": 0.05
          },
          "xaxis": {
           "automargin": true,
           "gridcolor": "#EBF0F8",
           "linecolor": "#EBF0F8",
           "ticks": "",
           "title": {
            "standoff": 15
           },
           "zerolinecolor": "#EBF0F8",
           "zerolinewidth": 2
          },
          "yaxis": {
           "automargin": true,
           "gridcolor": "#EBF0F8",
           "linecolor": "#EBF0F8",
           "ticks": "",
           "title": {
            "standoff": 15
           },
           "zerolinecolor": "#EBF0F8",
           "zerolinewidth": 2
          }
         }
        },
        "title": {
         "text": "Cross-Validation (N=5) Mean Logloss with Error Bands"
        },
        "xaxis": {
         "title": {
          "text": "Training Steps"
         }
        },
        "yaxis": {
         "title": {
          "text": "Logloss"
         }
        }
       }
      }
     },
     "metadata": {},
     "output_type": "display_data"
    }
   ],
   "source": [
    "plot_error_scatter(\n",
    "    df_plot=cv_results,\n",
    "    x=\"iterations\",\n",
    "    y=\"test-Logloss-mean\",\n",
    "    err=\"test-Logloss-std\",\n",
    "    name=\"Mean logloss\",\n",
    "    title=\"Cross-Validation (N=5) Mean Logloss with Error Bands\",\n",
    "    xtitle=\"Training Steps\",\n",
    "    ytitle=\"Logloss\",\n",
    ")\n"
   ]
  },
  {
   "cell_type": "code",
   "execution_count": 120,
   "id": "777b2e5b",
   "metadata": {},
   "outputs": [
    {
     "data": {
      "text/html": [
       "<div>\n",
       "<style scoped>\n",
       "    .dataframe tbody tr th:only-of-type {\n",
       "        vertical-align: middle;\n",
       "    }\n",
       "\n",
       "    .dataframe tbody tr th {\n",
       "        vertical-align: top;\n",
       "    }\n",
       "\n",
       "    .dataframe thead th {\n",
       "        text-align: right;\n",
       "    }\n",
       "</style>\n",
       "<table border=\"1\" class=\"dataframe\">\n",
       "  <thead>\n",
       "    <tr style=\"text-align: right;\">\n",
       "      <th></th>\n",
       "      <th>occupation__occupation_Accountant</th>\n",
       "      <th>occupation__occupation_Analyst</th>\n",
       "      <th>occupation__occupation_Architect</th>\n",
       "      <th>occupation__occupation_Artist</th>\n",
       "      <th>occupation__occupation_Banker</th>\n",
       "      <th>occupation__occupation_Chef</th>\n",
       "      <th>occupation__occupation_Consultant</th>\n",
       "      <th>occupation__occupation_Dentist</th>\n",
       "      <th>occupation__occupation_Designer</th>\n",
       "      <th>occupation__occupation_Doctor</th>\n",
       "      <th>...</th>\n",
       "      <th>occupation__occupation_Writer</th>\n",
       "      <th>marital_status__marital_status_Married</th>\n",
       "      <th>marital_status__marital_status_Single</th>\n",
       "      <th>gender__gender_Female</th>\n",
       "      <th>gender__gender_Male</th>\n",
       "      <th>education_level__education_level</th>\n",
       "      <th>remainder__age</th>\n",
       "      <th>remainder__income</th>\n",
       "      <th>remainder__credit_score</th>\n",
       "      <th>remainder__loan_status</th>\n",
       "    </tr>\n",
       "  </thead>\n",
       "  <tbody>\n",
       "    <tr>\n",
       "      <th>0</th>\n",
       "      <td>0.0</td>\n",
       "      <td>0.0</td>\n",
       "      <td>0.0</td>\n",
       "      <td>0.0</td>\n",
       "      <td>0.0</td>\n",
       "      <td>0.0</td>\n",
       "      <td>0.0</td>\n",
       "      <td>0.0</td>\n",
       "      <td>0.0</td>\n",
       "      <td>0.0</td>\n",
       "      <td>...</td>\n",
       "      <td>0.0</td>\n",
       "      <td>1.0</td>\n",
       "      <td>0.0</td>\n",
       "      <td>0.0</td>\n",
       "      <td>1.0</td>\n",
       "      <td>1.0</td>\n",
       "      <td>32</td>\n",
       "      <td>85000</td>\n",
       "      <td>720</td>\n",
       "      <td>Approved</td>\n",
       "    </tr>\n",
       "    <tr>\n",
       "      <th>1</th>\n",
       "      <td>0.0</td>\n",
       "      <td>0.0</td>\n",
       "      <td>0.0</td>\n",
       "      <td>0.0</td>\n",
       "      <td>0.0</td>\n",
       "      <td>0.0</td>\n",
       "      <td>0.0</td>\n",
       "      <td>0.0</td>\n",
       "      <td>0.0</td>\n",
       "      <td>0.0</td>\n",
       "      <td>...</td>\n",
       "      <td>0.0</td>\n",
       "      <td>0.0</td>\n",
       "      <td>1.0</td>\n",
       "      <td>1.0</td>\n",
       "      <td>0.0</td>\n",
       "      <td>0.0</td>\n",
       "      <td>24</td>\n",
       "      <td>48000</td>\n",
       "      <td>640</td>\n",
       "      <td>Denied</td>\n",
       "    </tr>\n",
       "    <tr>\n",
       "      <th>2</th>\n",
       "      <td>0.0</td>\n",
       "      <td>1.0</td>\n",
       "      <td>0.0</td>\n",
       "      <td>0.0</td>\n",
       "      <td>0.0</td>\n",
       "      <td>0.0</td>\n",
       "      <td>0.0</td>\n",
       "      <td>0.0</td>\n",
       "      <td>0.0</td>\n",
       "      <td>0.0</td>\n",
       "      <td>...</td>\n",
       "      <td>0.0</td>\n",
       "      <td>0.0</td>\n",
       "      <td>1.0</td>\n",
       "      <td>0.0</td>\n",
       "      <td>1.0</td>\n",
       "      <td>1.0</td>\n",
       "      <td>31</td>\n",
       "      <td>65000</td>\n",
       "      <td>680</td>\n",
       "      <td>Approved</td>\n",
       "    </tr>\n",
       "    <tr>\n",
       "      <th>3</th>\n",
       "      <td>0.0</td>\n",
       "      <td>0.0</td>\n",
       "      <td>0.0</td>\n",
       "      <td>0.0</td>\n",
       "      <td>0.0</td>\n",
       "      <td>0.0</td>\n",
       "      <td>0.0</td>\n",
       "      <td>0.0</td>\n",
       "      <td>0.0</td>\n",
       "      <td>0.0</td>\n",
       "      <td>...</td>\n",
       "      <td>0.0</td>\n",
       "      <td>1.0</td>\n",
       "      <td>0.0</td>\n",
       "      <td>1.0</td>\n",
       "      <td>0.0</td>\n",
       "      <td>4.0</td>\n",
       "      <td>54</td>\n",
       "      <td>85000</td>\n",
       "      <td>760</td>\n",
       "      <td>Approved</td>\n",
       "    </tr>\n",
       "    <tr>\n",
       "      <th>4</th>\n",
       "      <td>0.0</td>\n",
       "      <td>0.0</td>\n",
       "      <td>0.0</td>\n",
       "      <td>0.0</td>\n",
       "      <td>0.0</td>\n",
       "      <td>0.0</td>\n",
       "      <td>0.0</td>\n",
       "      <td>0.0</td>\n",
       "      <td>0.0</td>\n",
       "      <td>0.0</td>\n",
       "      <td>...</td>\n",
       "      <td>0.0</td>\n",
       "      <td>1.0</td>\n",
       "      <td>0.0</td>\n",
       "      <td>1.0</td>\n",
       "      <td>0.0</td>\n",
       "      <td>1.0</td>\n",
       "      <td>39</td>\n",
       "      <td>78000</td>\n",
       "      <td>730</td>\n",
       "      <td>Approved</td>\n",
       "    </tr>\n",
       "  </tbody>\n",
       "</table>\n",
       "<p>5 rows × 47 columns</p>\n",
       "</div>"
      ],
      "text/plain": [
       "   occupation__occupation_Accountant  occupation__occupation_Analyst  \\\n",
       "0                                0.0                             0.0   \n",
       "1                                0.0                             0.0   \n",
       "2                                0.0                             1.0   \n",
       "3                                0.0                             0.0   \n",
       "4                                0.0                             0.0   \n",
       "\n",
       "   occupation__occupation_Architect  occupation__occupation_Artist  \\\n",
       "0                               0.0                            0.0   \n",
       "1                               0.0                            0.0   \n",
       "2                               0.0                            0.0   \n",
       "3                               0.0                            0.0   \n",
       "4                               0.0                            0.0   \n",
       "\n",
       "   occupation__occupation_Banker  occupation__occupation_Chef  \\\n",
       "0                            0.0                          0.0   \n",
       "1                            0.0                          0.0   \n",
       "2                            0.0                          0.0   \n",
       "3                            0.0                          0.0   \n",
       "4                            0.0                          0.0   \n",
       "\n",
       "   occupation__occupation_Consultant  occupation__occupation_Dentist  \\\n",
       "0                                0.0                             0.0   \n",
       "1                                0.0                             0.0   \n",
       "2                                0.0                             0.0   \n",
       "3                                0.0                             0.0   \n",
       "4                                0.0                             0.0   \n",
       "\n",
       "   occupation__occupation_Designer  occupation__occupation_Doctor  ...  \\\n",
       "0                              0.0                            0.0  ...   \n",
       "1                              0.0                            0.0  ...   \n",
       "2                              0.0                            0.0  ...   \n",
       "3                              0.0                            0.0  ...   \n",
       "4                              0.0                            0.0  ...   \n",
       "\n",
       "   occupation__occupation_Writer  marital_status__marital_status_Married  \\\n",
       "0                            0.0                                     1.0   \n",
       "1                            0.0                                     0.0   \n",
       "2                            0.0                                     0.0   \n",
       "3                            0.0                                     1.0   \n",
       "4                            0.0                                     1.0   \n",
       "\n",
       "   marital_status__marital_status_Single  gender__gender_Female  \\\n",
       "0                                    0.0                    0.0   \n",
       "1                                    1.0                    1.0   \n",
       "2                                    1.0                    0.0   \n",
       "3                                    0.0                    1.0   \n",
       "4                                    0.0                    1.0   \n",
       "\n",
       "   gender__gender_Male  education_level__education_level  remainder__age  \\\n",
       "0                  1.0                               1.0              32   \n",
       "1                  0.0                               0.0              24   \n",
       "2                  1.0                               1.0              31   \n",
       "3                  0.0                               4.0              54   \n",
       "4                  0.0                               1.0              39   \n",
       "\n",
       "   remainder__income  remainder__credit_score  remainder__loan_status  \n",
       "0              85000                      720                Approved  \n",
       "1              48000                      640                  Denied  \n",
       "2              65000                      680                Approved  \n",
       "3              85000                      760                Approved  \n",
       "4              78000                      730                Approved  \n",
       "\n",
       "[5 rows x 47 columns]"
      ]
     },
     "execution_count": 120,
     "metadata": {},
     "output_type": "execute_result"
    }
   ],
   "source": [
    "df_test = pd.read_csv(test_path)\n",
    "\n",
    "df_test.head()"
   ]
  },
  {
   "cell_type": "code",
   "execution_count": 121,
   "id": "446a4141",
   "metadata": {},
   "outputs": [],
   "source": [
    "y_test = df_test.pop(target)\n",
    "X_test = df_test\n",
    "\n"
   ]
  }
 ],
 "metadata": {
  "kernelspec": {
   "display_name": ".venv",
   "language": "python",
   "name": "python3"
  },
  "language_info": {
   "codemirror_mode": {
    "name": "ipython",
    "version": 3
   },
   "file_extension": ".py",
   "mimetype": "text/x-python",
   "name": "python",
   "nbconvert_exporter": "python",
   "pygments_lexer": "ipython3",
   "version": "3.10.13"
  }
 },
 "nbformat": 4,
 "nbformat_minor": 5
}
